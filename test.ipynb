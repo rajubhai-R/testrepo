{
    "cells": [
        {
            "cell_type": "code",
            "execution_count": 1,
            "metadata": {},
            "outputs": [
                {
                    "name": "stdout",
                    "output_type": "stream",
                    "text": "hello world\n"
                }
            ],
            "source": "print(\"hello world\")"
        },
        {
            "cell_type": "code",
            "execution_count": 38,
            "metadata": {},
            "outputs": [],
            "source": "import pandas as pd\n"
        },
        {
            "cell_type": "code",
            "execution_count": 29,
            "metadata": {},
            "outputs": [],
            "source": "from sklearn import datasets\n"
        },
        {
            "cell_type": "code",
            "execution_count": 40,
            "metadata": {},
            "outputs": [
                {
                    "data": {
                        "text/html": "<div>\n<style scoped>\n    .dataframe tbody tr th:only-of-type {\n        vertical-align: middle;\n    }\n\n    .dataframe tbody tr th {\n        vertical-align: top;\n    }\n\n    .dataframe thead th {\n        text-align: right;\n    }\n</style>\n<table border=\"1\" class=\"dataframe\">\n  <thead>\n    <tr style=\"text-align: right;\">\n      <th></th>\n      <th>ID</th>\n      <th>Country</th>\n      <th>FullName</th>\n      <th>Title</th>\n      <th>Company</th>\n      <th>Address1</th>\n      <th>Address2</th>\n      <th>Address3</th>\n      <th>City</th>\n      <th>State</th>\n      <th>Zipcode</th>\n      <th>Email</th>\n      <th>Phone</th>\n      <th>Date</th>\n    </tr>\n  </thead>\n  <tbody>\n    <tr>\n      <th>0</th>\n      <td>28114</td>\n      <td>US</td>\n      <td>NANCY A MCNARY</td>\n      <td>EXECUTIVE MARKETING DIRECTOR</td>\n      <td>KNOWLEDGE BRIDGE CONSULTING</td>\n      <td>2323 GRAND BOLAVARD</td>\n      <td>FLOOR 6</td>\n      <td>NaN</td>\n      <td>KANSAS CITY</td>\n      <td>MO</td>\n      <td>64108.0</td>\n      <td>NaN</td>\n      <td>816-881-8582</td>\n      <td>3/19/1958</td>\n    </tr>\n    <tr>\n      <th>1</th>\n      <td>75148</td>\n      <td>USA</td>\n      <td>DEREK WRIGHT</td>\n      <td>NaN</td>\n      <td>COMPUTER SOFTWARE SOLUTIONS, INC.</td>\n      <td>1405 STARSHADOW DRIVE</td>\n      <td>NaN</td>\n      <td>NaN</td>\n      <td>RICHARDSON</td>\n      <td>NaN</td>\n      <td>75081.0</td>\n      <td>DEREK.WRIGHT@CSS.COM</td>\n      <td>972-583-1730</td>\n      <td>NaN</td>\n    </tr>\n    <tr>\n      <th>2</th>\n      <td>34879</td>\n      <td>US</td>\n      <td>DAN SAGE</td>\n      <td>ACCOUNT MNGR</td>\n      <td>PIONEER BROADCAST CO</td>\n      <td>PO BOX 31</td>\n      <td>1200 FISH HATCHERY</td>\n      <td>NaN</td>\n      <td>MADISON</td>\n      <td>WI</td>\n      <td>53715.0</td>\n      <td>NaN</td>\n      <td>608-267-9486</td>\n      <td>NaN</td>\n    </tr>\n    <tr>\n      <th>3</th>\n      <td>23837</td>\n      <td>US</td>\n      <td>JERRY E STURNER</td>\n      <td>SALES MNGR</td>\n      <td>ROCKVILLE WATER DEPARTMENT</td>\n      <td>11900 PARKLAWN DRIVE</td>\n      <td>SUITE 412</td>\n      <td>NaN</td>\n      <td>ROCKVILLE</td>\n      <td>MD</td>\n      <td>20852.0</td>\n      <td>NaN</td>\n      <td>301-881-2720</td>\n      <td>12/14/1972</td>\n    </tr>\n    <tr>\n      <th>4</th>\n      <td>81698</td>\n      <td>US</td>\n      <td>GLORIA VANARSDALE</td>\n      <td>NaN</td>\n      <td>WATERMARK OF LEARNING</td>\n      <td>1 WILLIAMS CTR</td>\n      <td>NaN</td>\n      <td>NaN</td>\n      <td>TULSA</td>\n      <td>OK</td>\n      <td>74172.0</td>\n      <td>GLORIA.VANARSDALE@WATERMARKLEARNING.COM</td>\n      <td>918-590-6247</td>\n      <td>NaN</td>\n    </tr>\n  </tbody>\n</table>\n</div>",
                        "text/plain": "      ID Country           FullName                         Title  \\\n0  28114      US     NANCY A MCNARY  EXECUTIVE MARKETING DIRECTOR   \n1  75148     USA       DEREK WRIGHT                           NaN   \n2  34879      US           DAN SAGE                  ACCOUNT MNGR   \n3  23837      US    JERRY E STURNER                    SALES MNGR   \n4  81698      US  GLORIA VANARSDALE                           NaN   \n\n                             Company               Address1  \\\n0        KNOWLEDGE BRIDGE CONSULTING    2323 GRAND BOLAVARD   \n1  COMPUTER SOFTWARE SOLUTIONS, INC.  1405 STARSHADOW DRIVE   \n2               PIONEER BROADCAST CO              PO BOX 31   \n3         ROCKVILLE WATER DEPARTMENT   11900 PARKLAWN DRIVE   \n4              WATERMARK OF LEARNING         1 WILLIAMS CTR   \n\n             Address2  Address3         City State  Zipcode  \\\n0             FLOOR 6       NaN  KANSAS CITY    MO  64108.0   \n1                 NaN       NaN   RICHARDSON   NaN  75081.0   \n2  1200 FISH HATCHERY       NaN      MADISON    WI  53715.0   \n3           SUITE 412       NaN    ROCKVILLE    MD  20852.0   \n4                 NaN       NaN        TULSA    OK  74172.0   \n\n                                     Email         Phone        Date  \n0                                      NaN  816-881-8582   3/19/1958  \n1                     DEREK.WRIGHT@CSS.COM  972-583-1730         NaN  \n2                                      NaN  608-267-9486         NaN  \n3                                      NaN  301-881-2720  12/14/1972  \n4  GLORIA.VANARSDALE@WATERMARKLEARNING.COM  918-590-6247         NaN  "
                    },
                    "execution_count": 40,
                    "metadata": {},
                    "output_type": "execute_result"
                }
            ],
            "source": "# The code was removed by Watson Studio for sharing."
        },
        {
            "cell_type": "code",
            "execution_count": 42,
            "metadata": {},
            "outputs": [
                {
                    "data": {
                        "text/plain": "(328, 14)"
                    },
                    "execution_count": 42,
                    "metadata": {},
                    "output_type": "execute_result"
                }
            ],
            "source": "df_data_1.shape"
        }
    ],
    "metadata": {
        "kernelspec": {
            "display_name": "Python 3.8",
            "language": "python",
            "name": "python3"
        },
        "language_info": {
            "codemirror_mode": {
                "name": "ipython",
                "version": 3
            },
            "file_extension": ".py",
            "mimetype": "text/x-python",
            "name": "python",
            "nbconvert_exporter": "python",
            "pygments_lexer": "ipython3",
            "version": "3.8.12"
        }
    },
    "nbformat": 4,
    "nbformat_minor": 1
}